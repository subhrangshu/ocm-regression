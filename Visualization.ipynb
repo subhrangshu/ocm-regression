{
 "cells": [
  {
   "cell_type": "code",
   "execution_count": null,
   "metadata": {},
   "outputs": [],
   "source": [
    "import seaborn as sns\n",
    "from pandas import read_csv\n",
    "import pandas as pd\n",
    "from sklearn.preprocessing import MinMaxScaler\n",
    "import os\n",
    "from matplotlib import pyplot as plt"
   ]
  },
  {
   "cell_type": "code",
   "execution_count": null,
   "metadata": {},
   "outputs": [],
   "source": [
    "directory = ''\n",
    "filename = '../Multi-site/Extracted Datasets/Labeled_Data.csv'\n",
    "link = directory + filename #TODO\n",
    "data = read_csv(link, usecols=[1,2,3,5,6,7,8,9,10,12,13,14,15,16,17,18,19,20,21,22,23], engine='python')"
   ]
  },
  {
   "cell_type": "code",
   "execution_count": null,
   "metadata": {},
   "outputs": [],
   "source": [
    "data.columns"
   ]
  },
  {
   "cell_type": "code",
   "execution_count": null,
   "metadata": {},
   "outputs": [],
   "source": [
    "scaler = MinMaxScaler()"
   ]
  },
  {
   "cell_type": "code",
   "execution_count": null,
   "metadata": {},
   "outputs": [],
   "source": [
    "data = data[['spco2', 'o2', 'no3', 'po4', 'phyc', 'si', 'ph', 'fe',\n",
    "       'mlotst', 'thetao', 'bottomT', 'vsi', 'vo',\n",
    "       'uo', 'so', 'zos']]\n",
    "data[['spco2', 'o2', 'no3', 'po4', 'phyc', 'si', 'ph', 'fe',\n",
    "       'mlotst', 'thetao', 'bottomT', 'vsi', 'vo',\n",
    "       'uo', 'so', 'zos']] = scaler.fit_transform(data[['spco2', 'o2', 'no3', 'po4', 'phyc', 'si', 'ph', 'fe',\n",
    "       'mlotst', 'thetao', 'bottomT', 'vsi', 'vo',\n",
    "       'uo', 'so', 'zos']])\n",
    "data"
   ]
  },
  {
   "cell_type": "code",
   "execution_count": null,
   "metadata": {},
   "outputs": [],
   "source": []
  },
  {
   "cell_type": "code",
   "execution_count": null,
   "metadata": {},
   "outputs": [],
   "source": [
    "f = sns.clustermap(data[:100])\n",
    "sns.set()\n",
    "sns.set(font_scale=1.5)\n",
    "f.savefig('Outputs/dataset overview.png', dpi=200)"
   ]
  },
  {
   "cell_type": "code",
   "execution_count": null,
   "metadata": {},
   "outputs": [],
   "source": []
  },
  {
   "cell_type": "code",
   "execution_count": null,
   "metadata": {},
   "outputs": [],
   "source": []
  },
  {
   "cell_type": "code",
   "execution_count": null,
   "metadata": {},
   "outputs": [],
   "source": [
    "os.listdir('Extracted Datasets')"
   ]
  },
  {
   "cell_type": "code",
   "execution_count": null,
   "metadata": {},
   "outputs": [],
   "source": [
    "directory = ''\n",
    "filename = 'Extracted Datasets/loc1_combined.csv'\n",
    "link = directory + filename #TODO\n",
    "data1 = read_csv(link, engine='python')\n",
    "data1 = data1.drop(columns=[\n",
    "    'time','latitude','longitude',\n",
    "    'usi','vsi','siconc', 'sithick',\n",
    "    #'siconc','usi','sithick','vsi',\n",
    "    'year','month'])\n",
    "\n",
    "directory = ''\n",
    "filename = 'Extracted Datasets/loc2_combined.csv'\n",
    "link = directory + filename #TODO\n",
    "data2 = read_csv(link, engine='python')\n",
    "data2 = data2.drop(columns=[\n",
    "    'time','latitude','longitude',\n",
    "    'usi','vsi','siconc', 'sithick',\n",
    "    #'siconc','usi','sithick','vsi',\n",
    "    'year','month'])\n",
    "\n",
    "directory = ''\n",
    "filename = 'Extracted Datasets/loc3_combined.csv'\n",
    "link = directory + filename #TODO\n",
    "data3 = read_csv(link, engine='python')\n",
    "data3 = data3.drop(columns=[\n",
    "    'time','latitude','longitude',\n",
    "    'usi','vsi','siconc', 'sithick',\n",
    "    #'siconc','usi','sithick','vsi',\n",
    "    'year','month'])\n",
    "\n",
    "directory = ''\n",
    "filename = 'Extracted Datasets/loc4_combined.csv'\n",
    "link = directory + filename #TODO\n",
    "data4 = read_csv(link, engine='python')\n",
    "data4 = data4.drop(columns=[\n",
    "    'time','latitude','longitude',\n",
    "    'usi','vsi','siconc', 'sithick',\n",
    "    #'siconc','usi','sithick','vsi',\n",
    "    'year','month'])\n",
    "\n",
    "directory = ''\n",
    "filename = 'Extracted Datasets/loc5_combined.csv'\n",
    "link = directory + filename #TODO\n",
    "data5 = read_csv(link, engine='python')\n",
    "data5 = data5.drop(columns=[\n",
    "    'time','latitude','longitude',\n",
    "    'usi','vsi','siconc', 'sithick',\n",
    "    #'siconc','usi','sithick','vsi',\n",
    "    'year','month'])\n",
    "\n",
    "directory = ''\n",
    "filename = 'Extracted Datasets/loc6_combined.csv'\n",
    "link = directory + filename #TODO\n",
    "data6 = read_csv(link, engine='python')\n",
    "data6 = data6.drop(columns=[\n",
    "    'time','latitude','longitude',\n",
    "    'usi','vsi','siconc', 'sithick',\n",
    "    #'siconc','usi','sithick','vsi',\n",
    "    'year','month'])\n",
    "\n",
    "directory = ''\n",
    "filename = 'Extracted Datasets/All Loc Combined.csv'\n",
    "link = directory + filename #TODO\n",
    "dataAll = read_csv(link, engine='python')\n",
    "dataAll = dataAll.drop(columns=[\n",
    "    'time','latitude','longitude',\n",
    "    'usi','vsi','siconc', 'sithick',\n",
    "    #'siconc','usi','sithick','vsi',\n",
    "    'year','month'])"
   ]
  },
  {
   "cell_type": "code",
   "execution_count": null,
   "metadata": {},
   "outputs": [],
   "source": [
    "scaler1 = MinMaxScaler()\n",
    "data1[['spco2', 'o2', 'chl', 'no3', 'po4', 'phyc', 'si', 'ph', 'nppv', 'fe',\n",
    "       'mlotst', 'thetao', 'bottomT', 'vo',\n",
    "       'uo', 'so', 'zos']] = scaler1.fit_transform(data1[['spco2', 'o2', 'chl', 'no3', 'po4', 'phyc', 'si', 'ph', 'nppv', 'fe',\n",
    "       'mlotst', 'thetao', 'bottomT', 'vo',\n",
    "       'uo', 'so', 'zos']])\n",
    "\n",
    "scaler2 = MinMaxScaler()\n",
    "data2[['spco2', 'o2', 'chl', 'no3', 'po4', 'phyc', 'si', 'ph', 'nppv', 'fe',\n",
    "       'mlotst', 'thetao', 'bottomT', 'vo',\n",
    "       'uo', 'so', 'zos']] = scaler2.fit_transform(data2[['spco2', 'o2', 'chl', 'no3', 'po4', 'phyc', 'si', 'ph', 'nppv', 'fe',\n",
    "       'mlotst', 'thetao', 'bottomT', 'vo',\n",
    "       'uo', 'so', 'zos']])\n",
    "\n",
    "scaler3 = MinMaxScaler()\n",
    "data3[['spco2', 'o2', 'chl', 'no3', 'po4', 'phyc', 'si', 'ph', 'nppv', 'fe',\n",
    "       'mlotst', 'thetao', 'bottomT', 'vo',\n",
    "       'uo', 'so', 'zos']] = scaler3.fit_transform(data3[['spco2', 'o2', 'chl', 'no3', 'po4', 'phyc', 'si', 'ph', 'nppv', 'fe',\n",
    "       'mlotst', 'thetao', 'bottomT', 'vo',\n",
    "       'uo', 'so', 'zos']])\n",
    "\n",
    "scaler4 = MinMaxScaler()\n",
    "data4[['spco2', 'o2', 'chl', 'no3', 'po4', 'phyc', 'si', 'ph', 'nppv', 'fe',\n",
    "       'mlotst', 'thetao', 'bottomT', 'vo',\n",
    "       'uo', 'so', 'zos']] = scaler4.fit_transform(data4[['spco2', 'o2', 'chl', 'no3', 'po4', 'phyc', 'si', 'ph', 'nppv', 'fe',\n",
    "       'mlotst', 'thetao', 'bottomT', 'vo',\n",
    "       'uo', 'so', 'zos']])\n",
    "\n",
    "scaler5 = MinMaxScaler()\n",
    "data5[['spco2', 'o2', 'chl', 'no3', 'po4', 'phyc', 'si', 'ph', 'nppv', 'fe',\n",
    "       'mlotst', 'thetao', 'bottomT', 'vo',\n",
    "       'uo', 'so', 'zos']] = scaler5.fit_transform(data5[['spco2', 'o2', 'chl', 'no3', 'po4', 'phyc', 'si', 'ph', 'nppv', 'fe',\n",
    "       'mlotst', 'thetao', 'bottomT', 'vo',\n",
    "       'uo', 'so', 'zos']])\n",
    "\n",
    "scaler6 = MinMaxScaler()\n",
    "data6[['spco2', 'o2', 'chl', 'no3', 'po4', 'phyc', 'si', 'ph', 'nppv', 'fe',\n",
    "       'mlotst', 'thetao', 'bottomT', 'vo',\n",
    "       'uo', 'so', 'zos']] = scaler6.fit_transform(data6[['spco2', 'o2', 'chl', 'no3', 'po4', 'phyc', 'si', 'ph', 'nppv', 'fe',\n",
    "       'mlotst', 'thetao', 'bottomT', 'vo',\n",
    "       'uo', 'so', 'zos']])\n",
    "\n",
    "scalerAll = MinMaxScaler()\n",
    "dataAll[['spco2', 'o2', 'chl', 'no3', 'po4', 'phyc', 'si', 'ph', 'nppv', 'fe',\n",
    "       'mlotst', 'thetao', 'bottomT', 'vo',\n",
    "       'uo', 'so', 'zos']] = scalerAll.fit_transform(dataAll[['spco2', 'o2', 'chl', 'no3', 'po4', 'phyc', 'si', 'ph', 'nppv', 'fe',\n",
    "       'mlotst', 'thetao', 'bottomT', 'vo',\n",
    "       'uo', 'so', 'zos']])"
   ]
  },
  {
   "cell_type": "code",
   "execution_count": null,
   "metadata": {},
   "outputs": [],
   "source": [
    "fig, axes = plt.subplots(6,1, figsize=(15,22))"
   ]
  },
  {
   "cell_type": "code",
   "execution_count": null,
   "metadata": {},
   "outputs": [],
   "source": [
    "data1.boxplot(figsize=(15,4), notch=True, fontsize=14, rot=45, ax=axes[0])\n",
    "data2.boxplot(figsize=(15,4), notch=True, fontsize=14, rot=45, ax=axes[1])\n",
    "data3.boxplot(figsize=(15,4), notch=True, fontsize=14, rot=45, ax=axes[2])\n",
    "data4.boxplot(figsize=(15,4), notch=True, fontsize=14, rot=45, ax=axes[3])\n",
    "data5.boxplot(figsize=(15,4), notch=True, fontsize=14, rot=45, ax=axes[4])\n",
    "data6.boxplot(figsize=(15,4), notch=True, fontsize=14, rot=45, ax=axes[5])"
   ]
  },
  {
   "cell_type": "code",
   "execution_count": null,
   "metadata": {},
   "outputs": [],
   "source": [
    "fig"
   ]
  },
  {
   "cell_type": "code",
   "execution_count": null,
   "metadata": {},
   "outputs": [],
   "source": [
    "for i in range(len(axes)):\n",
    "    if i != len(axes)-1:\n",
    "        axes[i].set_xticklabels('',fontsize=0)\n",
    "axes[0].set_title(\"Gulf of Mexico\", fontsize=14)\n",
    "axes[1].set_title(\"Bay of Bengal\", fontsize=14)\n",
    "axes[2].set_title(\"North Atlantic Ocean\", fontsize=14)\n",
    "axes[3].set_title(\"North Pacific Ocean\", fontsize=14)\n",
    "axes[4].set_title(\"South Atlantic Ocean\", fontsize=14)\n",
    "axes[5].set_title(\"Indian Ocean\", fontsize=14)\n",
    "fig.suptitle(\"Biogeochemical Features Distribution Breakdown\", fontsize=16, y=0.91)\n",
    "fig"
   ]
  },
  {
   "cell_type": "code",
   "execution_count": null,
   "metadata": {},
   "outputs": [],
   "source": [
    "dataAll.boxplot(figsize=(15,6), notch=True, fontsize=14, rot=45)\n",
    "plt.title(\"Biogeochemical Features Distribution Breakdown For All Location Combined\", fontsize=16)\n",
    "plt.show()"
   ]
  },
  {
   "cell_type": "code",
   "execution_count": null,
   "metadata": {},
   "outputs": [],
   "source": []
  },
  {
   "cell_type": "code",
   "execution_count": null,
   "metadata": {},
   "outputs": [],
   "source": []
  },
  {
   "cell_type": "code",
   "execution_count": null,
   "metadata": {},
   "outputs": [],
   "source": []
  }
 ],
 "metadata": {
  "kernelspec": {
   "display_name": "Python 3 (ipykernel)",
   "language": "python",
   "name": "python3"
  },
  "language_info": {
   "codemirror_mode": {
    "name": "ipython",
    "version": 3
   },
   "file_extension": ".py",
   "mimetype": "text/x-python",
   "name": "python",
   "nbconvert_exporter": "python",
   "pygments_lexer": "ipython3",
   "version": "3.8.8"
  }
 },
 "nbformat": 4,
 "nbformat_minor": 4
}
